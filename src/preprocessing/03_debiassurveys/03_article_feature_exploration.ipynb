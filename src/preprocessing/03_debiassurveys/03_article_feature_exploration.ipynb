{
 "cells": [
  {
   "cell_type": "markdown",
   "metadata": {},
   "source": [
    "## Overview\n",
    "\n",
    "This notebook explores the article features, specifically instances in which we did not have an instance of the LDA topic model for an article."
   ]
  },
  {
   "cell_type": "markdown",
   "metadata": {},
   "source": [
    "### Imports + Variables"
   ]
  },
  {
   "cell_type": "code",
   "execution_count": 1,
   "metadata": {},
   "outputs": [],
   "source": [
    "import bz2\n",
    "import json\n",
    "import os\n",
    "import xml.etree.ElementTree as et\n",
    "\n",
    "import pandas as pd"
   ]
  },
  {
   "cell_type": "code",
   "execution_count": null,
   "metadata": {},
   "outputs": [],
   "source": [
    "lang = \"ru\"\n",
    "base_dir = \"home/flemmerich/wikimotifs2/data\"\n",
    "wiki_dump_fn = os.path.join(base_dir, \"text\", \"raw\", f\"{lang}wiki-20170720-pages-articles.xml.bz2\")\n",
    "article_text_fn = os.path.join(base_dir, \"text\", \"json\", f\"{lang}wiki-20170720.json\")\n",
    "article_features_fn = os.path.join(base_dir, \"article_features\", f\"article_features_{lang}.p\")\n",
    "\n",
    "print(\"Analyzing {0}\".format(lang))\n",
    "\n",
    "for fn in (wiki_dump_fn, article_text_fn, article_features_fn):\n",
    "    if not os.path.exists(fn):\n",
    "        print(\"{0} does not exist.\".format(fn))"
   ]
  },
  {
   "cell_type": "markdown",
   "metadata": {},
   "source": [
    "### Load in Article Features"
   ]
  },
  {
   "cell_type": "code",
   "execution_count": null,
   "metadata": {},
   "outputs": [],
   "source": [
    "print(\"Loading in features.\")\n",
    "df = pd.read_pickle(article_features_fn)\n",
    "print(\"Columns:\\n\", df.columns)\n",
    "print(\"Head:\\n\", df.head())"
   ]
  },
  {
   "cell_type": "code",
   "execution_count": null,
   "metadata": {},
   "outputs": [],
   "source": [
    "print(\"Articles missing LDA topics:\")\n",
    "df_with_topics[df_with_topics.topic_0.isnull()]"
   ]
  },
  {
   "cell_type": "code",
   "execution_count": null,
   "metadata": {},
   "outputs": [],
   "source": [
    "missing_titles = frozenset(df[df.topic_0.isnull()][\"gensim_title\"])\n",
    "print(\"\\n=== Missing Titles ({0}) ===\\n{1}\".format(len(missing_titles), missing_titles))"
   ]
  },
  {
   "cell_type": "markdown",
   "metadata": {},
   "source": [
    "### Load in Article Text (to investigate missing articles)"
   ]
  },
  {
   "cell_type": "code",
   "execution_count": null,
   "metadata": {},
   "outputs": [],
   "source": [
    "article2text = {}\n",
    "print(\"opening article texts\")\n",
    "with open(article_text_fn, \"r\") as f:\n",
    "    for line in f:\n",
    "        js = json.loads(line)\n",
    "        title = js[\"title\"]\n",
    "        text = \"\\n\".join(js[\"section_texts\"]).replace(\"'\", \"\")\n",
    "        article2text[title] = text\n",
    "\n",
    "articles_ids = list(article2text.keys())\n",
    "articles_text = list(article2text.values())\n",
    "\n",
    "json_ids = frozenset(articles_ids)\n",
    "missing_but_in_json = [x for x in missing_titles if x in json_ids]\n",
    "missing_and_not_in_json = [x for x in missing_titles if x not in json_ids]\n",
    "\n",
    "print(\"Count missing (in JSON):\", len(missing_but_in_json))\n",
    "print(\"Count missing (not in JSON):\", len(missing_and_not_in_json))"
   ]
  },
  {
   "cell_type": "code",
   "execution_count": null,
   "metadata": {},
   "outputs": [],
   "source": [
    "df[df[\"page_title\"] == \"B-25 Mitchell\"]"
   ]
  },
  {
   "cell_type": "code",
   "execution_count": null,
   "metadata": {},
   "outputs": [],
   "source": [
    "df[(df[\"gensim_title\"] == \"তালমুদ\")]"
   ]
  },
  {
   "cell_type": "markdown",
   "metadata": {},
   "source": [
    "### Get example missing pages"
   ]
  },
  {
   "cell_type": "code",
   "execution_count": null,
   "metadata": {},
   "outputs": [],
   "source": [
    "examples_to_keep = 10\n",
    "\n",
    "entries_for_missing = {}\n",
    "with bz2.BZ2File(wiki_dump_fn, \"r\") as f:\n",
    "    mapping = {}\n",
    "    current_page = \"\"\n",
    "    page_count = 0\n",
    "    for i,line in enumerate(f):\n",
    "        line = line.strip().decode(\"utf-8\")\n",
    "        if line.startswith(\"<page>\"):\n",
    "            current_page = \"\"\n",
    "            page_count += 1\n",
    "        current_page += line\n",
    "        if line.startswith(\"</page>\"):\n",
    "            page_elem = et.fromstring(current_page)\n",
    "            title = page_elem.find(\"title\").text\n",
    "            pid = page_elem.find(\"id\").text\n",
    "            mapping[pid] = title\n",
    "            if page_count % 100000 == 0:\n",
    "                print (\"extracted page titles:\", page_count)\n",
    "            if title in missing_titles:\n",
    "                entries_for_missing[title] = current_page\n",
    "                if len(entries_for_missing) == examples_to_keep:\n",
    "                    print(\"Reached {0} titles.\".format(examples_to_keep))\n",
    "                    break"
   ]
  },
  {
   "cell_type": "code",
   "execution_count": null,
   "metadata": {},
   "outputs": [],
   "source": [
    "entries_for_missing[\"Norden (Ostfriesland)\"]"
   ]
  }
 ],
 "metadata": {
  "kernelspec": {
   "display_name": "Python 3",
   "language": "python",
   "name": "python3"
  },
  "language_info": {
   "codemirror_mode": {
    "name": "ipython",
    "version": 3
   },
   "file_extension": ".py",
   "mimetype": "text/x-python",
   "name": "python",
   "nbconvert_exporter": "python",
   "pygments_lexer": "ipython3",
   "version": "3.7.1"
  }
 },
 "nbformat": 4,
 "nbformat_minor": 2
}
